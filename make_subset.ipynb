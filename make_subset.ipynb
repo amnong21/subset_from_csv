{
 "cells": [
  {
   "cell_type": "markdown",
   "id": "c15cb8a5-c2dc-4898-851f-bddfcd8b7e33",
   "metadata": {},
   "source": [
    "# Prepare subsets from CSV"
   ]
  },
  {
   "cell_type": "markdown",
   "id": "1ce220ff-a090-4dc1-9810-96183409255b",
   "metadata": {},
   "source": [
    "## Import and Functions"
   ]
  },
  {
   "cell_type": "code",
   "execution_count": 1,
   "id": "f73e140b-8b59-4c5a-a7eb-2ea2c882bde9",
   "metadata": {},
   "outputs": [],
   "source": [
    "import csv\n",
    "import time\n",
    "import winsound\n",
    "import pathlib\n",
    "import pandas as pd\n",
    "\n",
    "def get_header_and_lookup_values(file: str):\n",
    "    t = pd.read_csv(file, dtype=str)\n",
    "    filter_column=t.columns[0]\n",
    "    wanted_values = t[filter_column].to_list()\n",
    "    return filter_column, wanted_values\n",
    "\n",
    "def filter_source_file(source_file: str, filter_column: str, wanted_values: list, chunksize=10**5):\n",
    "    print('Looking for mathces in column {} inside file:{}'.format(filter_column, source_file))\n",
    "    filtered_data = pd.DataFrame(index=None)\n",
    "    with pd.read_csv(source_file, chunksize=chunksize, dtype=str) as reader:\n",
    "        for chunk in reader:\n",
    "            to_be_added = chunk.loc[chunk[filter_column].isin(wanted_values)]\n",
    "            filtered_data = pd.concat([filtered_data, to_be_added])\n",
    "            print('Rows in filtered data: {}'.format(filtered_data.shape[0]))\n",
    "    print('done reading {}'.format(source_file))\n",
    "    return filtered_data\n",
    "\n",
    "def write_df_to_csv(df, file_full_path: str, str_addition='_subset'):\n",
    "    full_path = pathlib.Path(file_full_path)\n",
    "    file_name = full_path.stem\n",
    "    subset_full_path = \"output/\" + file_name + str_addition + '.csv'\n",
    "    print('Writing: {}..'.format(subset_full_path),end='')\n",
    "    df.to_csv(subset_full_path, index=False)\n",
    "    print('done')\n",
    "    \n",
    "\n"
   ]
  },
  {
   "cell_type": "markdown",
   "id": "9df2fb7a-6fd9-4f2f-89c5-d97981ab194c",
   "metadata": {},
   "source": [
    "## Used files"
   ]
  },
  {
   "cell_type": "code",
   "execution_count": 2,
   "id": "f5775efa-cff3-42a3-a3a6-967ea839fe45",
   "metadata": {},
   "outputs": [],
   "source": [
    "#Training:\n",
    "# YTMC_file = 'data/2022-08-17_YTMC_oilseed_SUBSET.csv'\n",
    "# NFMC_file = 'data/2022-08-17_NFMC_oilseed_SUBSET.csv'\n",
    "# INVB_file = 'data/2022-08-17_INVB_oilseed_SUBSET.csv'\n",
    "# Real Oןilseeds:\n",
    "# YTMC_file = 'C:/Users/amnon/Desktop/ACCOUNTS/BASF/WS3_migration/Crop_zip_files/oil_seeds_170822/2022-08-17_YTMC_oilseed.csv'\n",
    "# NFMC_file = 'C:/Users/amnon/Desktop/ACCOUNTS/BASF/WS3_migration/Crop_zip_files/oil_seeds_170822/2022-08-17_NFMC_oilseed.csv'\n",
    "# INVB_file = 'C:/Users/amnon/Desktop/ACCOUNTS/BASF/WS3_migration/Crop_zip_files/oil_seeds_170822/2022-08-17_INVB_oilseed.csv'\n",
    "# Real Wheat:\n",
    "YTMC_file = 'C:/Users/amnon/Desktop/ACCOUNTS/BASF/WS3_migration/Crop_zip_files/Wheat2022_10_03/2022-08-16_YTMC_wheat.csv'\n",
    "NFMC_file = 'C:/Users/amnon/Desktop/ACCOUNTS/BASF/WS3_migration/Crop_zip_files/Wheat2022_10_03/2022-10-03_NFMC_wheat.csv'\n",
    "INVB_file = 'C:/Users/amnon/Desktop/ACCOUNTS/BASF/WS3_migration/Crop_zip_files/Wheat2022_10_03/2022-08-16_INVB_wheat.csv'\n",
    "# wanted_YTMC_values_file= 'Oilseeds_YTMC_doc_ids.csv'\n",
    "# wanted_NFMC_values_file= 'Oilseeds_NFMC_doc_ids.csv'"
   ]
  },
  {
   "cell_type": "markdown",
   "id": "089d3c7c-b061-4158-b77f-8c6996159a66",
   "metadata": {},
   "source": [
    "# Main"
   ]
  },
  {
   "cell_type": "code",
   "execution_count": 3,
   "id": "43e961fd-5760-4f7b-b63f-3e4682eece7e",
   "metadata": {},
   "outputs": [],
   "source": [
    "startTime = time.time()\n",
    "needed_pd_BAYER_UID = []"
   ]
  },
  {
   "cell_type": "markdown",
   "id": "54b48624-eae6-44c7-a716-bb129f6a62b5",
   "metadata": {},
   "source": [
    "## YTMC"
   ]
  },
  {
   "cell_type": "markdown",
   "id": "45ca745a-fea6-4216-a6d6-a7f1b72eee43",
   "metadata": {},
   "source": [
    "### Get header for filtering and values"
   ]
  },
  {
   "cell_type": "code",
   "execution_count": 4,
   "id": "8dc8c625-3b4a-44d2-a96a-dc92cf57fa1e",
   "metadata": {
    "tags": []
   },
   "outputs": [],
   "source": [
    "# filter_column, wanted_values = get_header_and_lookup_values(wanted_YTMC_values_file)\n",
    "filter_column = 'C_SET_PROJECT' #'C_SET_SEASON'\n",
    "wanted_values = ['EIN:England','AIN:Ghent (Astene Greenhouse)','DHY:Discovery Breeding','GWW:Gatersleben Winter Wheat','ASW:Agronomic Services Wheat','GDB:Gaters Discovery Breeding','BWW:Milly la Foret Winter Whea','MWW:Mironovka Winter Wheat','AHY:Ghent (Astene Greenhouse)','BDB:Milly Discovery Breeding']"
   ]
  },
  {
   "cell_type": "markdown",
   "id": "93ff9e71-c319-434c-95b8-76aaa3c32e82",
   "metadata": {},
   "source": [
    "### read source and get df of the subset"
   ]
  },
  {
   "cell_type": "code",
   "execution_count": 5,
   "id": "0f91000e-9dc0-4a41-bd53-d470a116f5bc",
   "metadata": {
    "tags": []
   },
   "outputs": [
    {
     "name": "stdout",
     "output_type": "stream",
     "text": [
      "Looking for mathces in column C_SET_PROJECT inside file:C:/Users/amnon/Desktop/ACCOUNTS/BASF/WS3_migration/Crop_zip_files/Wheat2022_10_03/2022-08-16_YTMC_wheat.csv\n",
      "Rows in filtered data: 30146\n",
      "Rows in filtered data: 65003\n",
      "Rows in filtered data: 86501\n",
      "Rows in filtered data: 110472\n",
      "Rows in filtered data: 151686\n",
      "Rows in filtered data: 182782\n",
      "Rows in filtered data: 214265\n",
      "Rows in filtered data: 243162\n",
      "Rows in filtered data: 261021\n",
      "Rows in filtered data: 298525\n"
     ]
    },
    {
     "ename": "KeyboardInterrupt",
     "evalue": "",
     "output_type": "error",
     "traceback": [
      "\u001b[1;31m---------------------------------------------------------------------------\u001b[0m",
      "\u001b[1;31mKeyboardInterrupt\u001b[0m                         Traceback (most recent call last)",
      "Cell \u001b[1;32mIn[5], line 1\u001b[0m\n\u001b[1;32m----> 1\u001b[0m df \u001b[38;5;241m=\u001b[39m \u001b[43mfilter_source_file\u001b[49m\u001b[43m(\u001b[49m\u001b[43mYTMC_file\u001b[49m\u001b[43m,\u001b[49m\u001b[43m \u001b[49m\u001b[43mfilter_column\u001b[49m\u001b[43m,\u001b[49m\u001b[43m \u001b[49m\u001b[43mwanted_values\u001b[49m\u001b[43m)\u001b[49m\n",
      "Cell \u001b[1;32mIn[1], line 17\u001b[0m, in \u001b[0;36mfilter_source_file\u001b[1;34m(source_file, filter_column, wanted_values, chunksize)\u001b[0m\n\u001b[0;32m     15\u001b[0m filtered_data \u001b[38;5;241m=\u001b[39m pd\u001b[38;5;241m.\u001b[39mDataFrame(index\u001b[38;5;241m=\u001b[39m\u001b[38;5;28;01mNone\u001b[39;00m)\n\u001b[0;32m     16\u001b[0m \u001b[38;5;28;01mwith\u001b[39;00m pd\u001b[38;5;241m.\u001b[39mread_csv(source_file, chunksize\u001b[38;5;241m=\u001b[39mchunksize, dtype\u001b[38;5;241m=\u001b[39m\u001b[38;5;28mstr\u001b[39m) \u001b[38;5;28;01mas\u001b[39;00m reader:\n\u001b[1;32m---> 17\u001b[0m     \u001b[38;5;28;01mfor\u001b[39;00m chunk \u001b[38;5;129;01min\u001b[39;00m reader:\n\u001b[0;32m     18\u001b[0m         to_be_added \u001b[38;5;241m=\u001b[39m chunk\u001b[38;5;241m.\u001b[39mloc[chunk[filter_column]\u001b[38;5;241m.\u001b[39misin(wanted_values)]\n\u001b[0;32m     19\u001b[0m         filtered_data \u001b[38;5;241m=\u001b[39m pd\u001b[38;5;241m.\u001b[39mconcat([filtered_data, to_be_added])\n",
      "File \u001b[1;32m~\\anaconda3\\lib\\site-packages\\pandas\\io\\parsers\\readers.py:1186\u001b[0m, in \u001b[0;36mTextFileReader.__next__\u001b[1;34m(self)\u001b[0m\n\u001b[0;32m   1184\u001b[0m \u001b[38;5;28;01mdef\u001b[39;00m \u001b[38;5;21m__next__\u001b[39m(\u001b[38;5;28mself\u001b[39m):\n\u001b[0;32m   1185\u001b[0m     \u001b[38;5;28;01mtry\u001b[39;00m:\n\u001b[1;32m-> 1186\u001b[0m         \u001b[38;5;28;01mreturn\u001b[39;00m \u001b[38;5;28;43mself\u001b[39;49m\u001b[38;5;241;43m.\u001b[39;49m\u001b[43mget_chunk\u001b[49m\u001b[43m(\u001b[49m\u001b[43m)\u001b[49m\n\u001b[0;32m   1187\u001b[0m     \u001b[38;5;28;01mexcept\u001b[39;00m \u001b[38;5;167;01mStopIteration\u001b[39;00m:\n\u001b[0;32m   1188\u001b[0m         \u001b[38;5;28mself\u001b[39m\u001b[38;5;241m.\u001b[39mclose()\n",
      "\u001b[1;31mKeyboardInterrupt\u001b[0m: "
     ]
    }
   ],
   "source": [
    "df = filter_source_file(YTMC_file, filter_column, wanted_values)"
   ]
  },
  {
   "cell_type": "markdown",
   "id": "2ed81abd-c44a-441c-a027-67c62ede09ca",
   "metadata": {},
   "source": [
    "### write subset to csv"
   ]
  },
  {
   "cell_type": "code",
   "execution_count": null,
   "id": "543f24de-c036-4c57-9d02-35dee95eb467",
   "metadata": {
    "tags": []
   },
   "outputs": [],
   "source": [
    "write_df_to_csv(df, YTMC_file)"
   ]
  },
  {
   "cell_type": "markdown",
   "id": "b9da2045-b6b0-429b-8b3e-8a701c940589",
   "metadata": {
    "tags": []
   },
   "source": [
    "### Add PD_BAYER_UID values to list"
   ]
  },
  {
   "cell_type": "code",
   "execution_count": null,
   "id": "a8272286-f93b-40ea-bcc6-a1e9dd63e2a2",
   "metadata": {
    "tags": []
   },
   "outputs": [],
   "source": [
    "needed_pd_BAYER_UID += [item for item in df['C_PD_BAYER_UID'].unique().tolist() if item]"
   ]
  },
  {
   "cell_type": "markdown",
   "id": "b4faeb68-0c26-476c-a0ed-e3c7828fe2c1",
   "metadata": {},
   "source": [
    "## NFMC"
   ]
  },
  {
   "cell_type": "markdown",
   "id": "fb8ddc33-6f89-4892-94ef-d0960fb0122d",
   "metadata": {},
   "source": [
    "### Get header for filtering and values"
   ]
  },
  {
   "cell_type": "code",
   "execution_count": null,
   "id": "42e281d6-c773-45cd-ba5e-8afe242ace7d",
   "metadata": {},
   "outputs": [],
   "source": [
    "# filter_column, wanted_values = get_header_and_lookup_values(wanted_NFMC_values_file)\n",
    "# filter_column = 'C_SET_SEASON'\n",
    "# wanted_values = ['22Q4']"
   ]
  },
  {
   "cell_type": "markdown",
   "id": "b0372225-68f5-43cd-b098-3c65de6be484",
   "metadata": {
    "tags": []
   },
   "source": [
    "### read source and get df of the subset"
   ]
  },
  {
   "cell_type": "code",
   "execution_count": null,
   "id": "82c368a7-6774-4ab5-9fb6-f642dfe99c82",
   "metadata": {},
   "outputs": [],
   "source": [
    "df = filter_source_file(NFMC_file, filter_column, wanted_values)"
   ]
  },
  {
   "cell_type": "markdown",
   "id": "a2cd9801-12a6-4dfa-a542-5e6814f7dcd3",
   "metadata": {},
   "source": [
    "### Write subset to csv"
   ]
  },
  {
   "cell_type": "code",
   "execution_count": null,
   "id": "ea0cf212-73c1-445a-abfc-fecceae8f576",
   "metadata": {},
   "outputs": [],
   "source": [
    "write_df_to_csv(df, NFMC_file)"
   ]
  },
  {
   "cell_type": "markdown",
   "id": "1a077c41-7a96-4eb3-a20e-630261166692",
   "metadata": {},
   "source": [
    "### Add PD_BAYER_UID values to list"
   ]
  },
  {
   "cell_type": "code",
   "execution_count": null,
   "id": "fde4f950-e10f-46f4-afdf-2476372cc7b2",
   "metadata": {},
   "outputs": [],
   "source": [
    "needed_pd_BAYER_UID += [item for item in df['C_PD_BAYER_UID'].unique().tolist() if item]"
   ]
  },
  {
   "cell_type": "markdown",
   "id": "446fc021-b774-40ae-bffc-c9cdab57d2f9",
   "metadata": {},
   "source": [
    "## INVB file by list"
   ]
  },
  {
   "cell_type": "code",
   "execution_count": null,
   "id": "8755e345-dc6e-42e7-9e78-65fc195e0ad9",
   "metadata": {},
   "outputs": [],
   "source": [
    "# remove blanks from list\n",
    "# needed_pd_BAYER_UID = YTMC_pd_BAYER_UID + NFMC_pd_BAYER_UID\n",
    "# Create subset from another file (INVB)\n",
    "    # Read source (INVB) and get df of the subset\n",
    "invb_df = filter_source_file(INVB_file, 'C_PD_BAYER_UID', needed_pd_BAYER_UID)\n",
    "    # write subset to CSV\n",
    "write_df_to_csv(invb_df,INVB_file, '_subset')"
   ]
  },
  {
   "cell_type": "markdown",
   "id": "629231fd-37a9-473c-84a2-c443c4cd725d",
   "metadata": {},
   "source": [
    "## Finish"
   ]
  },
  {
   "cell_type": "code",
   "execution_count": null,
   "id": "164deaab-f58a-4bc0-92df-a4486feae4a5",
   "metadata": {},
   "outputs": [],
   "source": [
    "winsound.Beep(440, 1000)\n",
    "executionTime = (time.time() - startTime)\n",
    "print('Execution time in seconds: ' + str(executionTime))"
   ]
  },
  {
   "cell_type": "code",
   "execution_count": null,
   "id": "8a3c2ee8-7b6e-42e0-907c-0f24a9619520",
   "metadata": {},
   "outputs": [],
   "source": []
  }
 ],
 "metadata": {
  "kernelspec": {
   "display_name": "Python 3 (ipykernel)",
   "language": "python",
   "name": "python3"
  },
  "language_info": {
   "codemirror_mode": {
    "name": "ipython",
    "version": 3
   },
   "file_extension": ".py",
   "mimetype": "text/x-python",
   "name": "python",
   "nbconvert_exporter": "python",
   "pygments_lexer": "ipython3",
   "version": "3.9.7"
  }
 },
 "nbformat": 4,
 "nbformat_minor": 5
}
